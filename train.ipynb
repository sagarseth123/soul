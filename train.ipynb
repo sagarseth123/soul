{
 "cells": [
  {
   "cell_type": "code",
   "execution_count": 3,
   "metadata": {},
   "outputs": [],
   "source": [
    "import torch\n",
    "from torch.utils.data import DataLoader, Dataset\n",
    "import numpy as np\n",
    "import pandas as pd\n",
    "from sklearn.model_selection import train_test_split"
   ]
  },
  {
   "cell_type": "code",
   "execution_count": 4,
   "metadata": {},
   "outputs": [
    {
     "data": {
      "text/html": [
       "<div>\n",
       "<style scoped>\n",
       "    .dataframe tbody tr th:only-of-type {\n",
       "        vertical-align: middle;\n",
       "    }\n",
       "\n",
       "    .dataframe tbody tr th {\n",
       "        vertical-align: top;\n",
       "    }\n",
       "\n",
       "    .dataframe thead th {\n",
       "        text-align: right;\n",
       "    }\n",
       "</style>\n",
       "<table border=\"1\" class=\"dataframe\">\n",
       "  <thead>\n",
       "    <tr style=\"text-align: right;\">\n",
       "      <th></th>\n",
       "      <th>label</th>\n",
       "      <th>pixel1</th>\n",
       "      <th>pixel2</th>\n",
       "      <th>pixel3</th>\n",
       "      <th>pixel4</th>\n",
       "      <th>pixel5</th>\n",
       "      <th>pixel6</th>\n",
       "      <th>pixel7</th>\n",
       "      <th>pixel8</th>\n",
       "      <th>pixel9</th>\n",
       "      <th>...</th>\n",
       "      <th>pixel775</th>\n",
       "      <th>pixel776</th>\n",
       "      <th>pixel777</th>\n",
       "      <th>pixel778</th>\n",
       "      <th>pixel779</th>\n",
       "      <th>pixel780</th>\n",
       "      <th>pixel781</th>\n",
       "      <th>pixel782</th>\n",
       "      <th>pixel783</th>\n",
       "      <th>pixel784</th>\n",
       "    </tr>\n",
       "  </thead>\n",
       "  <tbody>\n",
       "    <tr>\n",
       "      <th>0</th>\n",
       "      <td>0</td>\n",
       "      <td>0</td>\n",
       "      <td>0</td>\n",
       "      <td>0</td>\n",
       "      <td>0</td>\n",
       "      <td>0</td>\n",
       "      <td>0</td>\n",
       "      <td>0</td>\n",
       "      <td>9</td>\n",
       "      <td>8</td>\n",
       "      <td>...</td>\n",
       "      <td>103</td>\n",
       "      <td>87</td>\n",
       "      <td>56</td>\n",
       "      <td>0</td>\n",
       "      <td>0</td>\n",
       "      <td>0</td>\n",
       "      <td>0</td>\n",
       "      <td>0</td>\n",
       "      <td>0</td>\n",
       "      <td>0</td>\n",
       "    </tr>\n",
       "    <tr>\n",
       "      <th>1</th>\n",
       "      <td>1</td>\n",
       "      <td>0</td>\n",
       "      <td>0</td>\n",
       "      <td>0</td>\n",
       "      <td>0</td>\n",
       "      <td>0</td>\n",
       "      <td>0</td>\n",
       "      <td>0</td>\n",
       "      <td>0</td>\n",
       "      <td>0</td>\n",
       "      <td>...</td>\n",
       "      <td>34</td>\n",
       "      <td>0</td>\n",
       "      <td>0</td>\n",
       "      <td>0</td>\n",
       "      <td>0</td>\n",
       "      <td>0</td>\n",
       "      <td>0</td>\n",
       "      <td>0</td>\n",
       "      <td>0</td>\n",
       "      <td>0</td>\n",
       "    </tr>\n",
       "    <tr>\n",
       "      <th>2</th>\n",
       "      <td>2</td>\n",
       "      <td>0</td>\n",
       "      <td>0</td>\n",
       "      <td>0</td>\n",
       "      <td>0</td>\n",
       "      <td>0</td>\n",
       "      <td>0</td>\n",
       "      <td>14</td>\n",
       "      <td>53</td>\n",
       "      <td>99</td>\n",
       "      <td>...</td>\n",
       "      <td>0</td>\n",
       "      <td>0</td>\n",
       "      <td>0</td>\n",
       "      <td>0</td>\n",
       "      <td>63</td>\n",
       "      <td>53</td>\n",
       "      <td>31</td>\n",
       "      <td>0</td>\n",
       "      <td>0</td>\n",
       "      <td>0</td>\n",
       "    </tr>\n",
       "    <tr>\n",
       "      <th>3</th>\n",
       "      <td>2</td>\n",
       "      <td>0</td>\n",
       "      <td>0</td>\n",
       "      <td>0</td>\n",
       "      <td>0</td>\n",
       "      <td>0</td>\n",
       "      <td>0</td>\n",
       "      <td>0</td>\n",
       "      <td>0</td>\n",
       "      <td>0</td>\n",
       "      <td>...</td>\n",
       "      <td>137</td>\n",
       "      <td>126</td>\n",
       "      <td>140</td>\n",
       "      <td>0</td>\n",
       "      <td>133</td>\n",
       "      <td>224</td>\n",
       "      <td>222</td>\n",
       "      <td>56</td>\n",
       "      <td>0</td>\n",
       "      <td>0</td>\n",
       "    </tr>\n",
       "    <tr>\n",
       "      <th>4</th>\n",
       "      <td>3</td>\n",
       "      <td>0</td>\n",
       "      <td>0</td>\n",
       "      <td>0</td>\n",
       "      <td>0</td>\n",
       "      <td>0</td>\n",
       "      <td>0</td>\n",
       "      <td>0</td>\n",
       "      <td>0</td>\n",
       "      <td>0</td>\n",
       "      <td>...</td>\n",
       "      <td>0</td>\n",
       "      <td>0</td>\n",
       "      <td>0</td>\n",
       "      <td>0</td>\n",
       "      <td>0</td>\n",
       "      <td>0</td>\n",
       "      <td>0</td>\n",
       "      <td>0</td>\n",
       "      <td>0</td>\n",
       "      <td>0</td>\n",
       "    </tr>\n",
       "  </tbody>\n",
       "</table>\n",
       "<p>5 rows × 785 columns</p>\n",
       "</div>"
      ],
      "text/plain": [
       "   label  pixel1  pixel2  pixel3  pixel4  pixel5  pixel6  pixel7  pixel8  \\\n",
       "0      0       0       0       0       0       0       0       0       9   \n",
       "1      1       0       0       0       0       0       0       0       0   \n",
       "2      2       0       0       0       0       0       0      14      53   \n",
       "3      2       0       0       0       0       0       0       0       0   \n",
       "4      3       0       0       0       0       0       0       0       0   \n",
       "\n",
       "   pixel9  ...  pixel775  pixel776  pixel777  pixel778  pixel779  pixel780  \\\n",
       "0       8  ...       103        87        56         0         0         0   \n",
       "1       0  ...        34         0         0         0         0         0   \n",
       "2      99  ...         0         0         0         0        63        53   \n",
       "3       0  ...       137       126       140         0       133       224   \n",
       "4       0  ...         0         0         0         0         0         0   \n",
       "\n",
       "   pixel781  pixel782  pixel783  pixel784  \n",
       "0         0         0         0         0  \n",
       "1         0         0         0         0  \n",
       "2        31         0         0         0  \n",
       "3       222        56         0         0  \n",
       "4         0         0         0         0  \n",
       "\n",
       "[5 rows x 785 columns]"
      ]
     },
     "execution_count": 4,
     "metadata": {},
     "output_type": "execute_result"
    }
   ],
   "source": [
    "df = pd.read_csv('../archive/fashion-mnist_test.csv')\n",
    "df.head()"
   ]
  },
  {
   "cell_type": "code",
   "execution_count": 5,
   "metadata": {},
   "outputs": [
    {
     "data": {
      "text/plain": [
       "label\n",
       "0    1000\n",
       "1    1000\n",
       "2    1000\n",
       "3    1000\n",
       "8    1000\n",
       "6    1000\n",
       "5    1000\n",
       "4    1000\n",
       "7    1000\n",
       "9    1000\n",
       "Name: count, dtype: int64"
      ]
     },
     "execution_count": 5,
     "metadata": {},
     "output_type": "execute_result"
    }
   ],
   "source": [
    "df['label'].value_counts()"
   ]
  },
  {
   "cell_type": "code",
   "execution_count": 6,
   "metadata": {},
   "outputs": [
    {
     "data": {
      "text/html": [
       "<div>\n",
       "<style scoped>\n",
       "    .dataframe tbody tr th:only-of-type {\n",
       "        vertical-align: middle;\n",
       "    }\n",
       "\n",
       "    .dataframe tbody tr th {\n",
       "        vertical-align: top;\n",
       "    }\n",
       "\n",
       "    .dataframe thead th {\n",
       "        text-align: right;\n",
       "    }\n",
       "</style>\n",
       "<table border=\"1\" class=\"dataframe\">\n",
       "  <thead>\n",
       "    <tr style=\"text-align: right;\">\n",
       "      <th></th>\n",
       "      <th>label</th>\n",
       "      <th>pixel1</th>\n",
       "      <th>pixel2</th>\n",
       "      <th>pixel3</th>\n",
       "      <th>pixel4</th>\n",
       "      <th>pixel5</th>\n",
       "      <th>pixel6</th>\n",
       "      <th>pixel7</th>\n",
       "      <th>pixel8</th>\n",
       "      <th>pixel9</th>\n",
       "      <th>...</th>\n",
       "      <th>pixel775</th>\n",
       "      <th>pixel776</th>\n",
       "      <th>pixel777</th>\n",
       "      <th>pixel778</th>\n",
       "      <th>pixel779</th>\n",
       "      <th>pixel780</th>\n",
       "      <th>pixel781</th>\n",
       "      <th>pixel782</th>\n",
       "      <th>pixel783</th>\n",
       "      <th>pixel784</th>\n",
       "    </tr>\n",
       "  </thead>\n",
       "  <tbody>\n",
       "    <tr>\n",
       "      <th>9254</th>\n",
       "      <td>8</td>\n",
       "      <td>0</td>\n",
       "      <td>0</td>\n",
       "      <td>0</td>\n",
       "      <td>0</td>\n",
       "      <td>0</td>\n",
       "      <td>0</td>\n",
       "      <td>0</td>\n",
       "      <td>0</td>\n",
       "      <td>0</td>\n",
       "      <td>...</td>\n",
       "      <td>0</td>\n",
       "      <td>0</td>\n",
       "      <td>0</td>\n",
       "      <td>0</td>\n",
       "      <td>0</td>\n",
       "      <td>0</td>\n",
       "      <td>0</td>\n",
       "      <td>0</td>\n",
       "      <td>0</td>\n",
       "      <td>0</td>\n",
       "    </tr>\n",
       "    <tr>\n",
       "      <th>1561</th>\n",
       "      <td>5</td>\n",
       "      <td>0</td>\n",
       "      <td>0</td>\n",
       "      <td>0</td>\n",
       "      <td>0</td>\n",
       "      <td>0</td>\n",
       "      <td>0</td>\n",
       "      <td>0</td>\n",
       "      <td>0</td>\n",
       "      <td>0</td>\n",
       "      <td>...</td>\n",
       "      <td>0</td>\n",
       "      <td>0</td>\n",
       "      <td>0</td>\n",
       "      <td>0</td>\n",
       "      <td>0</td>\n",
       "      <td>0</td>\n",
       "      <td>0</td>\n",
       "      <td>0</td>\n",
       "      <td>0</td>\n",
       "      <td>0</td>\n",
       "    </tr>\n",
       "    <tr>\n",
       "      <th>1670</th>\n",
       "      <td>4</td>\n",
       "      <td>0</td>\n",
       "      <td>0</td>\n",
       "      <td>0</td>\n",
       "      <td>0</td>\n",
       "      <td>0</td>\n",
       "      <td>0</td>\n",
       "      <td>0</td>\n",
       "      <td>2</td>\n",
       "      <td>0</td>\n",
       "      <td>...</td>\n",
       "      <td>0</td>\n",
       "      <td>0</td>\n",
       "      <td>120</td>\n",
       "      <td>192</td>\n",
       "      <td>118</td>\n",
       "      <td>0</td>\n",
       "      <td>0</td>\n",
       "      <td>0</td>\n",
       "      <td>0</td>\n",
       "      <td>0</td>\n",
       "    </tr>\n",
       "    <tr>\n",
       "      <th>6087</th>\n",
       "      <td>3</td>\n",
       "      <td>0</td>\n",
       "      <td>0</td>\n",
       "      <td>0</td>\n",
       "      <td>0</td>\n",
       "      <td>0</td>\n",
       "      <td>0</td>\n",
       "      <td>0</td>\n",
       "      <td>0</td>\n",
       "      <td>0</td>\n",
       "      <td>...</td>\n",
       "      <td>0</td>\n",
       "      <td>0</td>\n",
       "      <td>0</td>\n",
       "      <td>0</td>\n",
       "      <td>0</td>\n",
       "      <td>0</td>\n",
       "      <td>0</td>\n",
       "      <td>0</td>\n",
       "      <td>0</td>\n",
       "      <td>0</td>\n",
       "    </tr>\n",
       "    <tr>\n",
       "      <th>6669</th>\n",
       "      <td>2</td>\n",
       "      <td>0</td>\n",
       "      <td>0</td>\n",
       "      <td>0</td>\n",
       "      <td>0</td>\n",
       "      <td>0</td>\n",
       "      <td>0</td>\n",
       "      <td>0</td>\n",
       "      <td>0</td>\n",
       "      <td>18</td>\n",
       "      <td>...</td>\n",
       "      <td>2</td>\n",
       "      <td>1</td>\n",
       "      <td>0</td>\n",
       "      <td>0</td>\n",
       "      <td>157</td>\n",
       "      <td>120</td>\n",
       "      <td>50</td>\n",
       "      <td>0</td>\n",
       "      <td>0</td>\n",
       "      <td>0</td>\n",
       "    </tr>\n",
       "  </tbody>\n",
       "</table>\n",
       "<p>5 rows × 785 columns</p>\n",
       "</div>"
      ],
      "text/plain": [
       "      label  pixel1  pixel2  pixel3  pixel4  pixel5  pixel6  pixel7  pixel8  \\\n",
       "9254      8       0       0       0       0       0       0       0       0   \n",
       "1561      5       0       0       0       0       0       0       0       0   \n",
       "1670      4       0       0       0       0       0       0       0       2   \n",
       "6087      3       0       0       0       0       0       0       0       0   \n",
       "6669      2       0       0       0       0       0       0       0       0   \n",
       "\n",
       "      pixel9  ...  pixel775  pixel776  pixel777  pixel778  pixel779  pixel780  \\\n",
       "9254       0  ...         0         0         0         0         0         0   \n",
       "1561       0  ...         0         0         0         0         0         0   \n",
       "1670       0  ...         0         0       120       192       118         0   \n",
       "6087       0  ...         0         0         0         0         0         0   \n",
       "6669      18  ...         2         1         0         0       157       120   \n",
       "\n",
       "      pixel781  pixel782  pixel783  pixel784  \n",
       "9254         0         0         0         0  \n",
       "1561         0         0         0         0  \n",
       "1670         0         0         0         0  \n",
       "6087         0         0         0         0  \n",
       "6669        50         0         0         0  \n",
       "\n",
       "[5 rows x 785 columns]"
      ]
     },
     "execution_count": 6,
     "metadata": {},
     "output_type": "execute_result"
    }
   ],
   "source": [
    "train, test = train_test_split(df, test_size=0.2, random_state=42)\n",
    "train.head()"
   ]
  },
  {
   "cell_type": "code",
   "execution_count": 18,
   "metadata": {},
   "outputs": [
    {
     "name": "stdout",
     "output_type": "stream",
     "text": [
      "[0, 0, 0, 0, 0, 0, 0, 0, 2, 0, 0, 76, 80, 88, 105, 88, 86, 78, 0, 0, 1, 0, 0, 0, 0, 0, 0, 0, 0, 0, 0, 0, 0, 0, 0, 0, 0, 0, 159, 145, 140, 116, 22, 113, 133, 145, 157, 1, 0, 0, 1, 0, 0, 0, 0, 0, 0, 0, 0, 0, 0, 0, 0, 0, 45, 125, 140, 130, 116, 110, 122, 116, 109, 133, 140, 127, 47, 0, 0, 1, 0, 0, 0, 0, 0, 0, 0, 0, 0, 0, 0, 101, 138, 134, 133, 137, 114, 109, 113, 111, 101, 138, 134, 134, 138, 104, 0, 0, 0, 0, 0, 0, 0, 0, 0, 0, 0, 0, 35, 148, 124, 129, 130, 149, 136, 120, 122, 121, 132, 148, 128, 128, 127, 148, 32, 0, 0, 0, 0, 0, 0, 0, 0, 0, 0, 0, 87, 149, 119, 135, 124, 132, 157, 128, 133, 134, 165, 134, 125, 134, 120, 151, 87, 0, 0, 0, 0, 0, 0, 0, 0, 0, 0, 0, 112, 150, 118, 143, 126, 116, 156, 138, 126, 133, 159, 112, 129, 144, 117, 150, 113, 0, 0, 0, 0, 0, 0, 0, 0, 0, 0, 0, 128, 143, 117, 153, 135, 101, 153, 161, 109, 140, 163, 102, 135, 151, 118, 144, 127, 0, 0, 0, 0, 0, 0, 0, 0, 0, 0, 0, 145, 137, 120, 159, 128, 88, 143, 181, 99, 148, 151, 86, 132, 159, 119, 140, 145, 0, 0, 0, 0, 0, 0, 0, 0, 0, 0, 0, 155, 129, 117, 160, 125, 102, 130, 188, 101, 156, 138, 101, 126, 161, 114, 132, 156, 0, 0, 0, 0, 0, 0, 0, 0, 0, 0, 10, 164, 122, 114, 155, 119, 119, 119, 181, 111, 155, 119, 120, 120, 156, 117, 122, 165, 10, 0, 0, 0, 0, 0, 0, 0, 0, 0, 26, 166, 109, 116, 155, 118, 141, 113, 174, 121, 153, 118, 140, 118, 155, 116, 110, 164, 26, 0, 0, 0, 0, 0, 0, 0, 0, 0, 43, 155, 113, 122, 150, 120, 150, 111, 163, 136, 151, 111, 150, 120, 149, 125, 112, 152, 47, 0, 0, 0, 0, 0, 0, 0, 0, 0, 60, 158, 99, 114, 151, 117, 165, 113, 151, 157, 147, 114, 164, 113, 151, 117, 102, 158, 60, 0, 0, 0, 0, 0, 0, 0, 0, 0, 71, 171, 186, 110, 136, 121, 183, 119, 135, 181, 132, 117, 183, 125, 136, 109, 183, 167, 70, 0, 0, 0, 0, 0, 0, 0, 0, 0, 107, 159, 253, 148, 126, 128, 186, 121, 122, 187, 124, 117, 188, 126, 127, 145, 255, 157, 110, 0, 0, 0, 0, 0, 0, 0, 0, 0, 120, 145, 240, 86, 110, 137, 212, 118, 106, 213, 107, 116, 212, 138, 109, 82, 241, 147, 120, 0, 0, 0, 0, 0, 0, 0, 0, 0, 116, 151, 222, 70, 125, 106, 210, 183, 89, 234, 86, 184, 210, 106, 129, 68, 222, 151, 116, 0, 0, 0, 0, 0, 0, 0, 0, 0, 121, 147, 210, 79, 161, 114, 183, 196, 138, 172, 140, 198, 186, 114, 160, 78, 211, 147, 122, 0, 0, 0, 0, 0, 0, 0, 0, 0, 133, 160, 201, 96, 150, 119, 180, 192, 159, 184, 159, 195, 181, 117, 148, 95, 203, 160, 128, 0, 0, 0, 0, 0, 0, 0, 0, 0, 130, 160, 192, 111, 140, 125, 156, 195, 182, 26, 184, 194, 158, 124, 140, 113, 191, 163, 128, 0, 0, 0, 0, 0, 0, 0, 0, 0, 126, 159, 182, 152, 175, 133, 136, 191, 83, 0, 82, 191, 136, 133, 174, 152, 182, 159, 127, 0, 0, 0, 0, 0, 0, 0, 0, 0, 129, 151, 179, 29, 111, 142, 145, 135, 0, 0, 0, 116, 147, 140, 118, 28, 179, 151, 132, 0, 0, 0, 0, 0, 0, 0, 0, 0, 128, 151, 181, 0, 0, 167, 107, 0, 0, 0, 0, 0, 107, 170, 0, 0, 181, 149, 130, 0, 0, 0, 0, 0, 0, 0, 0, 0, 133, 148, 171, 11, 0, 0, 0, 0, 1, 0, 1, 0, 0, 0, 0, 14, 173, 149, 132, 0, 0, 0, 0, 0, 0, 0, 0, 0, 135, 143, 172, 9, 0, 0, 0, 1, 0, 0, 0, 1, 0, 0, 0, 9, 171, 144, 133, 0, 0, 0, 0, 0, 0, 0, 0, 0, 152, 155, 181, 10, 0, 2, 0, 0, 0, 0, 0, 0, 0, 2, 0, 9, 182, 155, 150, 0, 0, 0, 0, 0, 0, 0, 0, 0, 55, 72, 98, 0, 0, 1, 0, 0, 0, 0, 0, 0, 0, 1, 0, 0, 98, 70, 58, 0, 0, 0, 0]\n",
      "4\n"
     ]
    }
   ],
   "source": [
    "import json\n",
    "np.set_printoptions(threshold=np.inf, linewidth=np.inf)\n",
    "inp = test.iloc[0, 1:].values\n",
    "inp = inp.tolist()\n",
    "print(json.dumps(inp))\n",
    "print(test.iloc[0, 0])"
   ]
  },
  {
   "cell_type": "code",
   "execution_count": 5,
   "metadata": {},
   "outputs": [
    {
     "data": {
      "text/plain": [
       "((8000, 785), (2000, 785))"
      ]
     },
     "execution_count": 5,
     "metadata": {},
     "output_type": "execute_result"
    }
   ],
   "source": [
    "train.shape, test.shape"
   ]
  },
  {
   "cell_type": "code",
   "execution_count": 6,
   "metadata": {},
   "outputs": [],
   "source": [
    "class Wine(Dataset):\n",
    "    def __init__(self):\n",
    "        data = train\n",
    "        self.x = torch.tensor(data.iloc[:, 1:].values, dtype=torch.float32)\n",
    "        self.x /= 255\n",
    "        self.x = self.x.reshape(-1, 1, 28, 28)\n",
    "        self.y = torch.tensor(data.iloc[:, 0].values, dtype=torch.int64)\n",
    "        self.n_samples = data.shape[0]\n",
    "\n",
    "    def __getitem__(self, index):\n",
    "        return self.x[index], self.y[index]\n",
    "    \n",
    "    def __len__(self):\n",
    "        return self.n_samples"
   ]
  },
  {
   "cell_type": "code",
   "execution_count": 7,
   "metadata": {},
   "outputs": [
    {
     "name": "stdout",
     "output_type": "stream",
     "text": [
      "features: tensor([[[0.0000, 0.0000, 0.0000, 0.0000, 0.0000, 0.0000, 0.0000, 0.0000,\n",
      "          0.0000, 0.0000, 0.0000, 0.0000, 0.0000, 0.0000, 0.0000, 0.0000,\n",
      "          0.0000, 0.0000, 0.0000, 0.0000, 0.0000, 0.0000, 0.0000, 0.0000,\n",
      "          0.0000, 0.0000, 0.0000, 0.0000],\n",
      "         [0.0000, 0.0000, 0.0000, 0.0000, 0.0000, 0.0000, 0.0000, 0.0000,\n",
      "          0.0000, 0.0000, 0.0000, 0.0000, 0.0000, 0.0000, 0.0000, 0.0000,\n",
      "          0.0000, 0.0000, 0.0000, 0.0000, 0.0000, 0.0000, 0.0000, 0.0000,\n",
      "          0.0000, 0.0000, 0.0000, 0.0000],\n",
      "         [0.0000, 0.0000, 0.0000, 0.0000, 0.0000, 0.0000, 0.0000, 0.0000,\n",
      "          0.0000, 0.0000, 0.0000, 0.0000, 0.0000, 0.0000, 0.0000, 0.0000,\n",
      "          0.0000, 0.0000, 0.0000, 0.0000, 0.0000, 0.0000, 0.0000, 0.0000,\n",
      "          0.0000, 0.0000, 0.0000, 0.0000],\n",
      "         [0.0000, 0.0000, 0.0000, 0.0000, 0.0000, 0.0000, 0.0000, 0.0000,\n",
      "          0.0000, 0.0000, 0.0000, 0.0000, 0.0000, 0.0000, 0.0000, 0.0000,\n",
      "          0.0000, 0.0000, 0.0000, 0.0000, 0.0000, 0.0000, 0.0000, 0.0000,\n",
      "          0.0000, 0.0000, 0.0000, 0.0000],\n",
      "         [0.0000, 0.0000, 0.0000, 0.3294, 0.2784, 0.0275, 0.0000, 0.0000,\n",
      "          0.0000, 0.0000, 0.0000, 0.0000, 0.0000, 0.0000, 0.0000, 0.0000,\n",
      "          0.0000, 0.0000, 0.0000, 0.0000, 0.0000, 0.0000, 0.0000, 0.0000,\n",
      "          0.0471, 0.0000, 0.0000, 0.0000],\n",
      "         [0.0000, 0.4588, 0.5686, 0.8118, 0.7412, 0.6902, 0.7843, 0.8157,\n",
      "          0.7647, 0.7529, 0.7647, 0.7647, 0.7686, 0.7529, 0.7490, 0.7529,\n",
      "          0.7647, 0.7608, 0.7529, 0.8000, 0.6745, 0.8431, 0.8314, 0.6902,\n",
      "          0.7137, 0.7059, 0.7608, 0.2078],\n",
      "         [0.0000, 0.5373, 0.4314, 0.5255, 0.5176, 0.6157, 0.5647, 0.4706,\n",
      "          0.3725, 0.3804, 0.4078, 0.4745, 0.4941, 0.5216, 0.5333, 0.5373,\n",
      "          0.5412, 0.5373, 0.5373, 0.5569, 0.5765, 0.6000, 0.6078, 0.6235,\n",
      "          0.6039, 0.6588, 0.7608, 0.2941],\n",
      "         [0.0000, 0.6980, 0.6235, 0.3843, 0.2588, 0.8549, 0.5647, 0.4941,\n",
      "          0.4510, 0.4627, 0.4627, 0.4784, 0.4706, 0.4353, 0.4392, 0.4784,\n",
      "          0.5373, 0.5882, 0.6275, 0.6157, 0.5686, 0.5059, 0.5333, 0.6275,\n",
      "          0.6588, 0.7255, 0.7451, 0.2078],\n",
      "         [0.0000, 0.7608, 0.2549, 0.4196, 0.4941, 0.0431, 0.0510, 0.5765,\n",
      "          0.4667, 0.4588, 0.4588, 0.4667, 0.4588, 0.4667, 0.4784, 0.4980,\n",
      "          0.5098, 0.4980, 0.4627, 0.4549, 0.4392, 0.4510, 0.4745, 0.5255,\n",
      "          0.6078, 0.7059, 0.7765, 0.2902],\n",
      "         [0.0000, 0.8078, 0.2353, 0.6275, 0.7451, 0.2510, 0.4157, 0.5725,\n",
      "          0.4863, 0.4902, 0.4902, 0.5059, 0.5059, 0.4784, 0.4784, 0.4667,\n",
      "          0.4510, 0.4353, 0.4588, 0.5098, 0.5294, 0.5333, 0.5333, 0.5255,\n",
      "          0.5647, 0.6980, 0.7020, 0.3529],\n",
      "         [0.0000, 0.7412, 0.6431, 0.6431, 0.7020, 0.9686, 0.6980, 0.5451,\n",
      "          0.5373, 0.5294, 0.5098, 0.5059, 0.4941, 0.4902, 0.4745, 0.4627,\n",
      "          0.4667, 0.4784, 0.4863, 0.4745, 0.4941, 0.5373, 0.6000, 0.6157,\n",
      "          0.6235, 0.7137, 0.6824, 0.3804],\n",
      "         [0.0000, 0.5882, 0.6000, 0.7608, 0.7647, 0.5882, 0.5294, 0.5098,\n",
      "          0.5216, 0.5294, 0.5020, 0.4863, 0.4667, 0.4588, 0.4588, 0.4431,\n",
      "          0.4510, 0.4510, 0.4353, 0.4314, 0.4353, 0.4588, 0.5216, 0.5882,\n",
      "          0.6314, 0.7255, 0.5922, 0.4157],\n",
      "         [0.0000, 0.8000, 0.6588, 0.6471, 0.6784, 0.6078, 0.5294, 0.5020,\n",
      "          0.4980, 0.4902, 0.4784, 0.4588, 0.4431, 0.4431, 0.4549, 0.4392,\n",
      "          0.4235, 0.4275, 0.4392, 0.4275, 0.4157, 0.4235, 0.4549, 0.5059,\n",
      "          0.6235, 0.6941, 0.5529, 0.4549],\n",
      "         [0.0000, 0.8157, 0.6667, 0.4431, 0.5020, 0.5059, 0.5176, 0.5020,\n",
      "          0.4863, 0.4706, 0.4549, 0.4314, 0.4078, 0.4353, 0.4392, 0.4235,\n",
      "          0.4196, 0.4235, 0.4275, 0.4275, 0.4157, 0.4196, 0.4353, 0.4902,\n",
      "          0.6353, 0.6235, 0.5529, 0.4863],\n",
      "         [0.1529, 0.8157, 0.3922, 0.3255, 0.5333, 0.4706, 0.5059, 0.5020,\n",
      "          0.4863, 0.4706, 0.4588, 0.4392, 0.4235, 0.4431, 0.4431, 0.4157,\n",
      "          0.4157, 0.4275, 0.4275, 0.4431, 0.4510, 0.4588, 0.4706, 0.5216,\n",
      "          0.6392, 0.6039, 0.5255, 0.5373],\n",
      "         [0.3922, 0.9569, 0.3216, 0.3137, 0.5765, 0.4627, 0.4784, 0.4863,\n",
      "          0.4863, 0.4706, 0.4667, 0.4588, 0.4510, 0.4627, 0.4549, 0.4275,\n",
      "          0.4314, 0.4431, 0.4588, 0.4667, 0.4588, 0.4431, 0.4667, 0.5294,\n",
      "          0.6275, 0.6392, 0.5098, 0.5725],\n",
      "         [0.6039, 0.9059, 0.3882, 0.2235, 0.6039, 0.4392, 0.4549, 0.4392,\n",
      "          0.4314, 0.4314, 0.4392, 0.4353, 0.4157, 0.4275, 0.4392, 0.4510,\n",
      "          0.4510, 0.4314, 0.4275, 0.4314, 0.4431, 0.4745, 0.4784, 0.5294,\n",
      "          0.6157, 0.6235, 0.4941, 0.6118],\n",
      "         [0.7137, 1.0000, 0.4157, 0.1725, 0.6039, 0.4275, 0.4353, 0.4078,\n",
      "          0.3922, 0.3922, 0.3922, 0.3725, 0.3569, 0.4000, 0.4196, 0.4196,\n",
      "          0.4157, 0.4157, 0.4431, 0.4431, 0.4549, 0.4941, 0.5020, 0.5098,\n",
      "          0.6000, 0.6078, 0.4706, 0.6078],\n",
      "         [0.3882, 0.9882, 0.4784, 0.1490, 0.5804, 0.4314, 0.4314, 0.4157,\n",
      "          0.3961, 0.3922, 0.3961, 0.3961, 0.4000, 0.4157, 0.4196, 0.4157,\n",
      "          0.4157, 0.4157, 0.4510, 0.4353, 0.4549, 0.5059, 0.5098, 0.5255,\n",
      "          0.6431, 0.6275, 0.4627, 0.5922],\n",
      "         [0.0902, 0.9333, 0.8078, 0.5647, 0.4667, 0.4078, 0.4000, 0.3529,\n",
      "          0.3686, 0.4039, 0.4078, 0.4157, 0.4196, 0.4157, 0.4000, 0.3961,\n",
      "          0.3922, 0.4078, 0.4549, 0.4353, 0.4588, 0.5255, 0.5294, 0.5569,\n",
      "          0.6784, 0.6471, 0.5059, 0.5804],\n",
      "         [0.0000, 0.6510, 0.8549, 0.8980, 0.6627, 0.6706, 0.5647, 0.6941,\n",
      "          0.5804, 0.4863, 0.4275, 0.4039, 0.4157, 0.3922, 0.3804, 0.3725,\n",
      "          0.3725, 0.3804, 0.3961, 0.3961, 0.4157, 0.4627, 0.4706, 0.4980,\n",
      "          0.5529, 0.4784, 0.4941, 0.5686],\n",
      "         [0.0000, 0.4784, 0.5686, 0.5412, 0.7059, 0.9412, 0.7961, 0.6627,\n",
      "          0.4431, 0.2980, 0.3333, 0.3647, 0.3569, 0.3569, 0.3529, 0.3451,\n",
      "          0.3333, 0.3176, 0.3059, 0.3137, 0.2980, 0.2980, 0.2902, 0.2941,\n",
      "          0.2235, 0.2000, 0.7451, 0.2784],\n",
      "         [0.0000, 0.0000, 0.5608, 0.5686, 0.6667, 0.9020, 0.6902, 0.4745,\n",
      "          0.7490, 0.5098, 0.4784, 0.4588, 0.4667, 0.4941, 0.4941, 0.4980,\n",
      "          0.5059, 0.5098, 0.5216, 0.5333, 0.5255, 0.5255, 0.5294, 0.5098,\n",
      "          0.5922, 0.7412, 0.3961, 0.0000],\n",
      "         [0.0000, 0.0000, 0.0000, 0.2078, 0.1961, 0.1451, 0.3922, 0.6275,\n",
      "          0.2980, 0.2627, 0.2941, 0.2941, 0.2980, 0.2824, 0.2706, 0.2667,\n",
      "          0.2627, 0.2549, 0.2510, 0.2549, 0.2471, 0.2431, 0.2118, 0.2471,\n",
      "          0.2431, 0.0000, 0.0000, 0.0000],\n",
      "         [0.0000, 0.0000, 0.0000, 0.0000, 0.0000, 0.0000, 0.0000, 0.0000,\n",
      "          0.0000, 0.0000, 0.0000, 0.0000, 0.0000, 0.0000, 0.0000, 0.0000,\n",
      "          0.0000, 0.0000, 0.0000, 0.0000, 0.0000, 0.0000, 0.0000, 0.0000,\n",
      "          0.0000, 0.0000, 0.0000, 0.0000],\n",
      "         [0.0000, 0.0000, 0.0000, 0.0000, 0.0000, 0.0000, 0.0000, 0.0000,\n",
      "          0.0000, 0.0000, 0.0000, 0.0000, 0.0000, 0.0000, 0.0000, 0.0000,\n",
      "          0.0000, 0.0000, 0.0000, 0.0000, 0.0000, 0.0000, 0.0000, 0.0000,\n",
      "          0.0000, 0.0000, 0.0000, 0.0000],\n",
      "         [0.0000, 0.0000, 0.0000, 0.0000, 0.0000, 0.0000, 0.0000, 0.0000,\n",
      "          0.0000, 0.0000, 0.0000, 0.0000, 0.0000, 0.0000, 0.0000, 0.0000,\n",
      "          0.0000, 0.0000, 0.0000, 0.0000, 0.0000, 0.0000, 0.0000, 0.0000,\n",
      "          0.0000, 0.0000, 0.0000, 0.0000],\n",
      "         [0.0000, 0.0000, 0.0000, 0.0000, 0.0000, 0.0000, 0.0000, 0.0000,\n",
      "          0.0000, 0.0000, 0.0000, 0.0000, 0.0000, 0.0000, 0.0000, 0.0000,\n",
      "          0.0000, 0.0000, 0.0000, 0.0000, 0.0000, 0.0000, 0.0000, 0.0000,\n",
      "          0.0000, 0.0000, 0.0000, 0.0000]]]),\n",
      " label: 8\n"
     ]
    }
   ],
   "source": [
    "dataset = Wine()\n",
    "features, label = dataset[0]\n",
    "print(f'features: {features},\\n label: {label}')"
   ]
  },
  {
   "cell_type": "code",
   "execution_count": 8,
   "metadata": {},
   "outputs": [],
   "source": [
    "import torch.nn as nn\n",
    "\n",
    "class CNN(nn.Module):\n",
    "    def __init__(self):\n",
    "        self.model = None\n",
    "        super(CNN, self).__init__()\n",
    "        self.conv1 = nn.Conv2d(in_channels=1, out_channels=32, kernel_size=3, stride=1, padding=1)\n",
    "        self.relu1 = nn.ReLU()\n",
    "        self.maxpool1 = nn.MaxPool2d(kernel_size=2)\n",
    "\n",
    "        self.conv2 = nn.Conv2d(in_channels=32, out_channels=64, kernel_size=3, stride=1, padding=1)\n",
    "        self.relu2 = nn.ReLU()\n",
    "        self.maxpool2 = nn.MaxPool2d(kernel_size=2)\n",
    "\n",
    "        self.fc1 = nn.Linear(in_features=7*7*64, out_features=120)\n",
    "        self.relu3 = nn.ReLU()\n",
    "        self.fc2 = nn.Linear(in_features=120, out_features=10)\n",
    "\n",
    "    def forward(self, x):\n",
    "        x = self.conv1(x)\n",
    "        x = self.relu1(x)\n",
    "        x = self.maxpool1(x)\n",
    "\n",
    "        x = self.conv2(x)\n",
    "        x = self.relu2(x)\n",
    "        x = self.maxpool2(x)\n",
    "\n",
    "        x = x.view(-1,64*7*7)\n",
    "\n",
    "        x = self.fc1(x)\n",
    "        x = self.relu3(x)\n",
    "        x = self.fc2(x)\n",
    "\n",
    "        return x\n",
    "    \n",
    "    \n",
    "    def predict(self, inputs):\n",
    "        self.eval()\n",
    "        with torch.no_grad():\n",
    "            output =  self(inputs)\n",
    "            _, predicted = torch.max(output, 1)\n",
    "        return predicted"
   ]
  },
  {
   "cell_type": "code",
   "execution_count": 9,
   "metadata": {},
   "outputs": [],
   "source": [
    "model = CNN()\n",
    "critereon = nn.CrossEntropyLoss()\n",
    "optimizer = torch.optim.Adam(model.parameters(), lr=0.01)\n",
    "train_loader = DataLoader(dataset=dataset, batch_size=4, shuffle=True)"
   ]
  },
  {
   "cell_type": "code",
   "execution_count": 10,
   "metadata": {},
   "outputs": [
    {
     "name": "stdout",
     "output_type": "stream",
     "text": [
      "Batch size: 4\n",
      "Number of batches: 2000\n"
     ]
    }
   ],
   "source": [
    "# Check DataLoader configuration\n",
    "batch_size = next(iter(train_loader))[0].shape[0]\n",
    "print(f\"Batch size: {batch_size}\")\n",
    "print(f\"Number of batches: {len(train_loader)}\")"
   ]
  },
  {
   "cell_type": "code",
   "execution_count": 11,
   "metadata": {},
   "outputs": [
    {
     "name": "stdout",
     "output_type": "stream",
     "text": [
      "epoch: 1/10, loss: 0.44041842222213745\n",
      "epoch: 2/10, loss: 0.7099641561508179\n",
      "epoch: 3/10, loss: 1.6269629001617432\n",
      "epoch: 4/10, loss: 1.8913079500198364\n",
      "epoch: 5/10, loss: 0.06599704176187515\n",
      "epoch: 6/10, loss: 0.20439836382865906\n",
      "epoch: 7/10, loss: 0.04283798485994339\n",
      "epoch: 8/10, loss: 0.81130051612854\n",
      "epoch: 9/10, loss: 0.8109903335571289\n",
      "epoch: 10/10, loss: 0.48265910148620605\n"
     ]
    }
   ],
   "source": [
    "no_of_epoch = 10\n",
    "\n",
    "for epoch in range(no_of_epoch):\n",
    "    model.train()\n",
    "    for idx, (inputs, targets) in enumerate(train_loader):\n",
    "        optimizer.zero_grad()\n",
    "        output = model(inputs)\n",
    "        loss = critereon(output, targets)\n",
    "        loss.backward()\n",
    "        optimizer.step()\n",
    "\n",
    "    print(f'epoch: {epoch+1}/{no_of_epoch}, loss: {loss.item()}')"
   ]
  },
  {
   "cell_type": "code",
   "execution_count": 12,
   "metadata": {},
   "outputs": [],
   "source": [
    "torch.save(model.state_dict(), 'model_weight.pth')"
   ]
  },
  {
   "cell_type": "code",
   "execution_count": 13,
   "metadata": {},
   "outputs": [
    {
     "data": {
      "text/plain": [
       "torch.Size([2000, 1, 28, 28])"
      ]
     },
     "execution_count": 13,
     "metadata": {},
     "output_type": "execute_result"
    }
   ],
   "source": [
    "model = CNN()\n",
    "model.load_state_dict(torch.load('model_weight.pth'))\n",
    "\n",
    "test = test/255.0\n",
    "X_test = torch.tensor(test.iloc[:, 1:].values, dtype=torch.float32)\n",
    "Y_test = torch.tensor(test.iloc[:, 0].values, dtype=torch.int64)\n",
    "X_train = torch.tensor(train.iloc[:, 1:].values, dtype=torch.float32)\n",
    "Y_train = torch.tensor(train.iloc[:, 0].values, dtype=torch.int64)\n",
    "\n",
    "X_train = X_train.reshape(-1, 1, 28, 28)\n",
    "X_test = X_test.reshape(-1, 1, 28, 28)\n",
    "X_test.shape"
   ]
  },
  {
   "cell_type": "code",
   "execution_count": 1,
   "metadata": {},
   "outputs": [
    {
     "ename": "NameError",
     "evalue": "name 'X_test' is not defined",
     "output_type": "error",
     "traceback": [
      "\u001b[31m---------------------------------------------------------------------------\u001b[39m",
      "\u001b[31mNameError\u001b[39m                                 Traceback (most recent call last)",
      "\u001b[36mCell\u001b[39m\u001b[36m \u001b[39m\u001b[32mIn[1]\u001b[39m\u001b[32m, line 1\u001b[39m\n\u001b[32m----> \u001b[39m\u001b[32m1\u001b[39m \u001b[43mX_test\u001b[49m[\u001b[32m0\u001b[39m]\n",
      "\u001b[31mNameError\u001b[39m: name 'X_test' is not defined"
     ]
    }
   ],
   "source": [
    "X_test[0]"
   ]
  },
  {
   "cell_type": "code",
   "execution_count": 16,
   "metadata": {},
   "outputs": [
    {
     "data": {
      "text/plain": [
       "(torch.Size([8000, 1, 28, 28]), torch.Size([8000]))"
      ]
     },
     "execution_count": 16,
     "metadata": {},
     "output_type": "execute_result"
    }
   ],
   "source": [
    "X=X_train\n",
    "output = model.predict(X)\n",
    "X.shape, output.shape"
   ]
  },
  {
   "cell_type": "code",
   "execution_count": 17,
   "metadata": {},
   "outputs": [
    {
     "name": "stdout",
     "output_type": "stream",
     "text": [
      "Accuracy: 74.96%\n"
     ]
    },
    {
     "data": {
      "text/plain": [
       "<Axes: >"
      ]
     },
     "execution_count": 17,
     "metadata": {},
     "output_type": "execute_result"
    },
    {
     "data": {
      "image/png": "[encoded data removed]",
      "text/plain": [
       "<Figure size 640x480 with 2 Axes>"
      ]
     },
     "metadata": {},
     "output_type": "display_data"
    }
   ],
   "source": [
    "Y= Y_train\n",
    "correct = (output == Y).sum().item()\n",
    "total = Y.size(0)\n",
    "print('Accuracy: {:.2f}%'.format(100 * correct / total))\n",
    "\n",
    "from sklearn.metrics import confusion_matrix\n",
    "import seaborn as sns\n",
    "\n",
    "cm = confusion_matrix(Y, output, normalize='true')\n",
    "sns.heatmap(cm, annot=True)\n",
    "\n"
   ]
  },
  {
   "cell_type": "code",
   "execution_count": 18,
   "metadata": {},
   "outputs": [
    {
     "data": {
      "text/plain": [
       "(5997, tensor([8, 5, 4,  ..., 2, 9, 7]))"
      ]
     },
     "execution_count": 18,
     "metadata": {},
     "output_type": "execute_result"
    }
   ],
   "source": [
    "correct, output"
   ]
  },
  {
   "cell_type": "code",
   "execution_count": 17,
   "metadata": {},
   "outputs": [
    {
     "ename": "RuntimeError",
     "evalue": "asyncio.run() cannot be called from a running event loop",
     "output_type": "error",
     "traceback": [
      "\u001b[0;31m---------------------------------------------------------------------------\u001b[0m",
      "\u001b[0;31mRuntimeError\u001b[0m                              Traceback (most recent call last)",
      "Cell \u001b[0;32mIn[17], line 31\u001b[0m\n\u001b[1;32m     29\u001b[0m \u001b[38;5;28;01mif\u001b[39;00m \u001b[38;5;18m__name__\u001b[39m \u001b[38;5;241m==\u001b[39m \u001b[38;5;124m\"\u001b[39m\u001b[38;5;124m__main__\u001b[39m\u001b[38;5;124m\"\u001b[39m:\n\u001b[1;32m     30\u001b[0m     \u001b[38;5;28;01mimport\u001b[39;00m \u001b[38;5;21;01muvicorn\u001b[39;00m\n\u001b[0;32m---> 31\u001b[0m     \u001b[43muvicorn\u001b[49m\u001b[38;5;241;43m.\u001b[39;49m\u001b[43mrun\u001b[49m\u001b[43m(\u001b[49m\u001b[43mapp\u001b[49m\u001b[43m,\u001b[49m\u001b[43m \u001b[49m\u001b[43mhost\u001b[49m\u001b[38;5;241;43m=\u001b[39;49m\u001b[38;5;124;43m\"\u001b[39;49m\u001b[38;5;124;43m0.0.0.0\u001b[39;49m\u001b[38;5;124;43m\"\u001b[39;49m\u001b[43m,\u001b[49m\u001b[43m \u001b[49m\u001b[43mport\u001b[49m\u001b[38;5;241;43m=\u001b[39;49m\u001b[38;5;241;43m8000\u001b[39;49m\u001b[43m)\u001b[49m\n",
      "File \u001b[0;32m~/anaconda3/envs/ml/lib/python3.12/site-packages/uvicorn/main.py:579\u001b[0m, in \u001b[0;36mrun\u001b[0;34m(app, host, port, uds, fd, loop, http, ws, ws_max_size, ws_max_queue, ws_ping_interval, ws_ping_timeout, ws_per_message_deflate, lifespan, interface, reload, reload_dirs, reload_includes, reload_excludes, reload_delay, workers, env_file, log_config, log_level, access_log, proxy_headers, server_header, date_header, forwarded_allow_ips, root_path, limit_concurrency, backlog, limit_max_requests, timeout_keep_alive, timeout_graceful_shutdown, ssl_keyfile, ssl_certfile, ssl_keyfile_password, ssl_version, ssl_cert_reqs, ssl_ca_certs, ssl_ciphers, headers, use_colors, app_dir, factory, h11_max_incomplete_event_size)\u001b[0m\n\u001b[1;32m    577\u001b[0m         Multiprocess(config, target\u001b[38;5;241m=\u001b[39mserver\u001b[38;5;241m.\u001b[39mrun, sockets\u001b[38;5;241m=\u001b[39m[sock])\u001b[38;5;241m.\u001b[39mrun()\n\u001b[1;32m    578\u001b[0m     \u001b[38;5;28;01melse\u001b[39;00m:\n\u001b[0;32m--> 579\u001b[0m         \u001b[43mserver\u001b[49m\u001b[38;5;241;43m.\u001b[39;49m\u001b[43mrun\u001b[49m\u001b[43m(\u001b[49m\u001b[43m)\u001b[49m\n\u001b[1;32m    580\u001b[0m \u001b[38;5;28;01mexcept\u001b[39;00m \u001b[38;5;167;01mKeyboardInterrupt\u001b[39;00m:\n\u001b[1;32m    581\u001b[0m     \u001b[38;5;28;01mpass\u001b[39;00m  \u001b[38;5;66;03m# pragma: full coverage\u001b[39;00m\n",
      "File \u001b[0;32m~/anaconda3/envs/ml/lib/python3.12/site-packages/uvicorn/server.py:65\u001b[0m, in \u001b[0;36mServer.run\u001b[0;34m(self, sockets)\u001b[0m\n\u001b[1;32m     63\u001b[0m \u001b[38;5;28;01mdef\u001b[39;00m \u001b[38;5;21mrun\u001b[39m(\u001b[38;5;28mself\u001b[39m, sockets: \u001b[38;5;28mlist\u001b[39m[socket\u001b[38;5;241m.\u001b[39msocket] \u001b[38;5;241m|\u001b[39m \u001b[38;5;28;01mNone\u001b[39;00m \u001b[38;5;241m=\u001b[39m \u001b[38;5;28;01mNone\u001b[39;00m) \u001b[38;5;241m-\u001b[39m\u001b[38;5;241m>\u001b[39m \u001b[38;5;28;01mNone\u001b[39;00m:\n\u001b[1;32m     64\u001b[0m     \u001b[38;5;28mself\u001b[39m\u001b[38;5;241m.\u001b[39mconfig\u001b[38;5;241m.\u001b[39msetup_event_loop()\n\u001b[0;32m---> 65\u001b[0m     \u001b[38;5;28;01mreturn\u001b[39;00m \u001b[43masyncio\u001b[49m\u001b[38;5;241;43m.\u001b[39;49m\u001b[43mrun\u001b[49m\u001b[43m(\u001b[49m\u001b[38;5;28;43mself\u001b[39;49m\u001b[38;5;241;43m.\u001b[39;49m\u001b[43mserve\u001b[49m\u001b[43m(\u001b[49m\u001b[43msockets\u001b[49m\u001b[38;5;241;43m=\u001b[39;49m\u001b[43msockets\u001b[49m\u001b[43m)\u001b[49m\u001b[43m)\u001b[49m\n",
      "File \u001b[0;32m~/anaconda3/envs/ml/lib/python3.12/asyncio/runners.py:190\u001b[0m, in \u001b[0;36mrun\u001b[0;34m(main, debug, loop_factory)\u001b[0m\n\u001b[1;32m    161\u001b[0m \u001b[38;5;250m\u001b[39m\u001b[38;5;124;03m\"\"\"Execute the coroutine and return the result.\u001b[39;00m\n\u001b[1;32m    162\u001b[0m \n\u001b[1;32m    163\u001b[0m \u001b[38;5;124;03mThis function runs the passed coroutine, taking care of\u001b[39;00m\n\u001b[0;32m   (...)\u001b[0m\n\u001b[1;32m    186\u001b[0m \u001b[38;5;124;03m    asyncio.run(main())\u001b[39;00m\n\u001b[1;32m    187\u001b[0m \u001b[38;5;124;03m\"\"\"\u001b[39;00m\n\u001b[1;32m    188\u001b[0m \u001b[38;5;28;01mif\u001b[39;00m events\u001b[38;5;241m.\u001b[39m_get_running_loop() \u001b[38;5;129;01mis\u001b[39;00m \u001b[38;5;129;01mnot\u001b[39;00m \u001b[38;5;28;01mNone\u001b[39;00m:\n\u001b[1;32m    189\u001b[0m     \u001b[38;5;66;03m# fail fast with short traceback\u001b[39;00m\n\u001b[0;32m--> 190\u001b[0m     \u001b[38;5;28;01mraise\u001b[39;00m \u001b[38;5;167;01mRuntimeError\u001b[39;00m(\n\u001b[1;32m    191\u001b[0m         \u001b[38;5;124m\"\u001b[39m\u001b[38;5;124masyncio.run() cannot be called from a running event loop\u001b[39m\u001b[38;5;124m\"\u001b[39m)\n\u001b[1;32m    193\u001b[0m \u001b[38;5;28;01mwith\u001b[39;00m Runner(debug\u001b[38;5;241m=\u001b[39mdebug, loop_factory\u001b[38;5;241m=\u001b[39mloop_factory) \u001b[38;5;28;01mas\u001b[39;00m runner:\n\u001b[1;32m    194\u001b[0m     \u001b[38;5;28;01mreturn\u001b[39;00m runner\u001b[38;5;241m.\u001b[39mrun(main)\n",
      "\u001b[0;31mRuntimeError\u001b[0m: asyncio.run() cannot be called from a running event loop"
     ]
    }
   ],
   "source": [
    "import io\n",
    "from fastapi import FastAPI, File, UploadFile\n",
    "from pydantic import BaseModel\n",
    "from fastapi.responses import JSONResponse\n",
    "from torchvision import transforms\n",
    "from PIL import Image\n",
    "\n",
    "app = FastAPI()\n",
    "\n",
    "transforms = transforms.Compose([\n",
    "    transforms.ToPILImage(),\n",
    "    transforms.Resize((28, 28)),\n",
    "    transforms.ToTensor()\n",
    "])\n",
    "\n",
    "class ImageInput(BaseModel):\n",
    "    image: UploadFile\n",
    "\n",
    "@app.post(\"/predict\")\n",
    "async def predict(data: ImageInput):\n",
    "    contents = data.image.file.read()\n",
    "    print(f'content = {contents}')\n",
    "    image = Image.open(io.BytesIO(contents))\n",
    "    print(f'image = {image}')\n",
    "    image = transforms(image).unsqueeze(0)\n",
    "    print(f'image = {image}')\n",
    "    model = CNN()\n",
    "    model.load_model('fashion_mnist_pytorch_full_cnn_model.pth')\n",
    "    output = model.predict(image)\n",
    "    return JSONResponse(content={\"class\": output.item()})\n",
    "\n",
    "if __name__ == \"__main__\":\n",
    "    import uvicorn\n",
    "    uvicorn.run(app, host=\"0.0.0.0\", port=8000)\n",
    "\n"
   ]
  },
  {
   "cell_type": "code",
   "execution_count": null,
   "metadata": {},
   "outputs": [],
   "source": []
  }
 ],
 "metadata": {
  "kernelspec": {
   "display_name": "ml",
   "language": "python",
   "name": "python3"
  },
  "language_info": {
   "codemirror_mode": {
    "name": "ipython",
    "version": 3
   },
   "file_extension": ".py",
   "mimetype": "text/x-python",
   "name": "python",
   "nbconvert_exporter": "python",
   "pygments_lexer": "ipython3",
   "version": "3.13.2"
  }
 },
 "nbformat": 4,
 "nbformat_minor": 2
}
