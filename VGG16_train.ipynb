{
 "cells": [
  {
   "cell_type": "code",
   "execution_count": 1,
   "metadata": {},
   "outputs": [],
   "source": [
    "import torch\n",
    "import torch.nn as nn\n",
    "import torch.nn.functional as F\n",
    "import torch.optim as optim\n",
    "import numpy as np\n",
    "import pandas as pd\n",
    "from torchvision import models, transforms, datasets\n",
    "from torch.utils.data import DataLoader, Dataset"
   ]
  },
  {
   "cell_type": "code",
   "execution_count": 7,
   "metadata": {},
   "outputs": [
    {
     "name": "stderr",
     "output_type": "stream",
     "text": [
      "/opt/homebrew/Caskroom/miniconda/base/envs/ml/lib/python3.13/site-packages/torchvision/models/_utils.py:208: UserWarning: The parameter 'pretrained' is deprecated since 0.13 and may be removed in the future, please use 'weights' instead.\n",
      "  warnings.warn(\n",
      "/opt/homebrew/Caskroom/miniconda/base/envs/ml/lib/python3.13/site-packages/torchvision/models/_utils.py:223: UserWarning: Arguments other than a weight enum or `None` for 'weights' are deprecated since 0.13 and may be removed in the future. The current behavior is equivalent to passing `weights=VGG16_Weights.IMAGENET1K_V1`. You can also use `weights=VGG16_Weights.DEFAULT` to get the most up-to-date weights.\n",
      "  warnings.warn(msg)\n"
     ]
    }
   ],
   "source": [
    "# Load the VGG16 model pre-trained on ImageNet\n",
    "vgg16 = models.vgg16(pretrained=True)"
   ]
  },
  {
   "cell_type": "code",
   "execution_count": 3,
   "metadata": {},
   "outputs": [],
   "source": [
    "# Freeze the parameters of the base model\n",
    "for param in vgg16.parameters():\n",
    "    param.requires_grad = False"
   ]
  },
  {
   "cell_type": "code",
   "execution_count": 8,
   "metadata": {},
   "outputs": [
    {
     "data": {
      "text/plain": [
       "VGG(\n",
       "  (features): Sequential(\n",
       "    (0): Conv2d(3, 64, kernel_size=(3, 3), stride=(1, 1), padding=(1, 1))\n",
       "    (1): ReLU(inplace=True)\n",
       "    (2): Conv2d(64, 64, kernel_size=(3, 3), stride=(1, 1), padding=(1, 1))\n",
       "    (3): ReLU(inplace=True)\n",
       "    (4): MaxPool2d(kernel_size=2, stride=2, padding=0, dilation=1, ceil_mode=False)\n",
       "    (5): Conv2d(64, 128, kernel_size=(3, 3), stride=(1, 1), padding=(1, 1))\n",
       "    (6): ReLU(inplace=True)\n",
       "    (7): Conv2d(128, 128, kernel_size=(3, 3), stride=(1, 1), padding=(1, 1))\n",
       "    (8): ReLU(inplace=True)\n",
       "    (9): MaxPool2d(kernel_size=2, stride=2, padding=0, dilation=1, ceil_mode=False)\n",
       "    (10): Conv2d(128, 256, kernel_size=(3, 3), stride=(1, 1), padding=(1, 1))\n",
       "    (11): ReLU(inplace=True)\n",
       "    (12): Conv2d(256, 256, kernel_size=(3, 3), stride=(1, 1), padding=(1, 1))\n",
       "    (13): ReLU(inplace=True)\n",
       "    (14): Conv2d(256, 256, kernel_size=(3, 3), stride=(1, 1), padding=(1, 1))\n",
       "    (15): ReLU(inplace=True)\n",
       "    (16): MaxPool2d(kernel_size=2, stride=2, padding=0, dilation=1, ceil_mode=False)\n",
       "    (17): Conv2d(256, 512, kernel_size=(3, 3), stride=(1, 1), padding=(1, 1))\n",
       "    (18): ReLU(inplace=True)\n",
       "    (19): Conv2d(512, 512, kernel_size=(3, 3), stride=(1, 1), padding=(1, 1))\n",
       "    (20): ReLU(inplace=True)\n",
       "    (21): Conv2d(512, 512, kernel_size=(3, 3), stride=(1, 1), padding=(1, 1))\n",
       "    (22): ReLU(inplace=True)\n",
       "    (23): MaxPool2d(kernel_size=2, stride=2, padding=0, dilation=1, ceil_mode=False)\n",
       "    (24): Conv2d(512, 512, kernel_size=(3, 3), stride=(1, 1), padding=(1, 1))\n",
       "    (25): ReLU(inplace=True)\n",
       "    (26): Conv2d(512, 512, kernel_size=(3, 3), stride=(1, 1), padding=(1, 1))\n",
       "    (27): ReLU(inplace=True)\n",
       "    (28): Conv2d(512, 512, kernel_size=(3, 3), stride=(1, 1), padding=(1, 1))\n",
       "    (29): ReLU(inplace=True)\n",
       "    (30): MaxPool2d(kernel_size=2, stride=2, padding=0, dilation=1, ceil_mode=False)\n",
       "  )\n",
       "  (avgpool): AdaptiveAvgPool2d(output_size=(7, 7))\n",
       "  (classifier): Sequential(\n",
       "    (0): Linear(in_features=25088, out_features=4096, bias=True)\n",
       "    (1): ReLU(inplace=True)\n",
       "    (2): Dropout(p=0.5, inplace=False)\n",
       "    (3): Linear(in_features=4096, out_features=4096, bias=True)\n",
       "    (4): ReLU(inplace=True)\n",
       "    (5): Dropout(p=0.5, inplace=False)\n",
       "    (6): Linear(in_features=4096, out_features=1000, bias=True)\n",
       "  )\n",
       ")"
      ]
     },
     "execution_count": 8,
     "metadata": {},
     "output_type": "execute_result"
    }
   ],
   "source": [
    "vgg16"
   ]
  },
  {
   "cell_type": "code",
   "execution_count": 9,
   "metadata": {},
   "outputs": [
    {
     "data": {
      "text/plain": [
       "Sequential(\n",
       "  (0): Linear(in_features=25088, out_features=4096, bias=True)\n",
       "  (1): ReLU(inplace=True)\n",
       "  (2): Dropout(p=0.5, inplace=False)\n",
       "  (3): Linear(in_features=4096, out_features=4096, bias=True)\n",
       "  (4): ReLU(inplace=True)\n",
       "  (5): Dropout(p=0.5, inplace=False)\n",
       "  (6): Linear(in_features=4096, out_features=1000, bias=True)\n",
       ")"
      ]
     },
     "execution_count": 9,
     "metadata": {},
     "output_type": "execute_result"
    }
   ],
   "source": [
    "vgg16.classifier #It has 6 layers in classifier"
   ]
  },
  {
   "cell_type": "code",
   "execution_count": 6,
   "metadata": {},
   "outputs": [],
   "source": [
    "num_classes = 10  # Assuming 15 classes\n",
    "vgg16.classifier[6] = nn.Linear(vgg16.classifier[6].in_features, num_classes)"
   ]
  },
  {
   "cell_type": "code",
   "execution_count": 2,
   "metadata": {},
   "outputs": [
    {
     "name": "stdout",
     "output_type": "stream",
     "text": [
      "(8000, 785) (2000, 785)\n",
      "torch.Size([3, 224, 224]) 5\n"
     ]
    }
   ],
   "source": [
    "# Load data\n",
    "from sklearn.model_selection import train_test_split\n",
    "from PIL import Image\n",
    "\n",
    "\n",
    "data_dir = '../archive/fashion-mnist_test.csv'\n",
    "\n",
    "df = pd.read_csv(data_dir)\n",
    "\n",
    "train, test = train_test_split(df, test_size=0.2)\n",
    "print(train.shape, test.shape)\n",
    "\n",
    "transform = transforms.Compose([\n",
    "    transforms.Resize((224, 224)),  # Resize from 28x28 to 224x224\n",
    "    transforms.Grayscale(num_output_channels=3),  # Convert 1 channel to 3 channels\n",
    "    transforms.ToTensor(),  # Convert to tensor (Shape: 3x224x224)\n",
    "    transforms.Normalize(mean=[0.485, 0.456, 0.406], std=[0.229, 0.224, 0.225])  # Normalize for VGG16\n",
    "])\n",
    "\n",
    "class Images(Dataset):\n",
    "    def __init__(self, df, transform=None):\n",
    "       self.data = df\n",
    "       self.transform = transform\n",
    "        \n",
    "\n",
    "    def __len__(self):\n",
    "        return len(self.data)\n",
    "    \n",
    "    def __getitem__(self, idx):\n",
    "        image_arr = self.data.iloc[idx, 1:].values.astype(np.uint8).reshape(28, 28, 1)\n",
    "        image_arr = image_arr.reshape(28, 28)\n",
    "        image = Image.fromarray(image_arr).convert('L')\n",
    "        if self.transform:\n",
    "            image = self.transform(image)\n",
    "\n",
    "        label = self.data.iloc[idx, 0]\n",
    "        return image, label\n",
    "    \n",
    "dataset = Images(train, transform=transform)\n",
    "\n",
    "train_loader = DataLoader(dataset, batch_size=128, shuffle=True)\n",
    "\n",
    "image, label = dataset[0]\n",
    "print(image.shape, label)\n"
   ]
  },
  {
   "cell_type": "code",
   "execution_count": 11,
   "metadata": {},
   "outputs": [
    {
     "name": "stdout",
     "output_type": "stream",
     "text": [
      "device = mps\n",
      "Epoch 0 Loss = 0.6167213320732117\n",
      "Epoch 1 Loss = 0.4647424519062042\n",
      "Epoch 2 Loss = 0.7905441522598267\n",
      "Epoch 3 Loss = 0.3539911210536957\n",
      "Epoch 4 Loss = 0.4115242660045624\n",
      "Epoch 5 Loss = 0.4120909571647644\n",
      "Epoch 6 Loss = 0.3159768581390381\n",
      "Epoch 7 Loss = 0.3821731209754944\n",
      "Epoch 8 Loss = 0.4641561508178711\n",
      "Epoch 9 Loss = 0.22417005896568298\n"
     ]
    }
   ],
   "source": [
    "epoch = 10\n",
    "loss_epoch = []\n",
    "\n",
    "device = torch.device('cuda:0' if torch.cuda.is_available() else 'mps' if torch.backends.mps.is_available() else 'cpu')\n",
    "print(f'device = {device}')\n",
    "\n",
    "# Define the loss function and optimizer\n",
    "criterion = nn.CrossEntropyLoss()\n",
    "optimizer = optim.Adam(vgg16.classifier[6].parameters(), lr=0.001)\n",
    "\n",
    "vgg16 = vgg16.to(device)\n",
    "\n",
    "for e in range(epoch):\n",
    "    vgg16.train()\n",
    "    for inputs, label in train_loader:\n",
    "        inputs = inputs.to(device)\n",
    "        label = label.to(device)\n",
    "        optimizer.zero_grad()\n",
    "        output = vgg16(inputs)\n",
    "        loss = criterion(output, label)\n",
    "        # loss_epoch.append(loss)\n",
    "        loss.backward()\n",
    "        optimizer.step()\n",
    "    print(f'Epoch {e} Loss = {loss.item()}')\n"
   ]
  },
  {
   "cell_type": "code",
   "execution_count": 13,
   "metadata": {},
   "outputs": [],
   "source": [
    "torch.save(vgg16.state_dict(), 'model_weight.pth')"
   ]
  },
  {
   "cell_type": "code",
   "execution_count": 3,
   "metadata": {},
   "outputs": [
    {
     "data": {
      "text/plain": [
       "(torch.Size([1000, 3, 224, 224]), torch.Size([1000]))"
      ]
     },
     "execution_count": 3,
     "metadata": {},
     "output_type": "execute_result"
    }
   ],
   "source": [
    "\n",
    "data_transform = transforms.Compose([\n",
    "    transforms.Resize((224, 224), antialias=True),  # Resize to 224x224\n",
    "    transforms.Lambda(lambda x: x.expand(3, -1, -1))  # Convert grayscale (1 channel) to RGB (3 channels)\n",
    "])\n",
    "\n",
    "X_test = test.iloc[:, 1:].values.astype(np.uint8).reshape(-1, 28, 28, 1)\n",
    "X_test = X_test[:1000,:]/255.0\n",
    "X_test = tensor_data = torch.tensor(X_test, dtype=torch.float32).reshape(-1, 1, 28, 28)\n",
    "\n",
    "Y_test = test.iloc[:, 0].values\n",
    "X_test = torch.stack([data_transform(img) for img in X_test])\n",
    "Y_test = torch.tensor(Y_test[:1000], dtype=torch.long)\n",
    "X_test.shape, Y_test.shape"
   ]
  },
  {
   "cell_type": "code",
   "execution_count": 4,
   "metadata": {},
   "outputs": [
    {
     "name": "stdout",
     "output_type": "stream",
     "text": [
      "device = cpu\n"
     ]
    },
    {
     "data": {
      "text/plain": [
       "tensor([[ 1.4848,  0.6204, -0.8334,  ..., -7.2823, -1.9788, -4.1186],\n",
       "        [-0.8841, -3.3324, -3.0476,  ..., -1.2458,  1.8186,  0.1982],\n",
       "        [-2.0092, -3.9275, -3.5999,  ...,  1.1512,  0.6051,  1.1109],\n",
       "        ...,\n",
       "        [-1.3349, -0.7823,  3.0405,  ..., -9.1458, -5.1565, -8.0074],\n",
       "        [-1.9401, -5.8469, -2.8515,  ...,  2.2186,  0.9892, -0.5701],\n",
       "        [ 0.6312, -6.3558,  0.8244,  ..., -8.7162,  5.1179, -4.8110]])"
      ]
     },
     "execution_count": 4,
     "metadata": {},
     "output_type": "execute_result"
    }
   ],
   "source": [
    "\n",
    "vgg16 = models.vgg16()\n",
    "vgg16.classifier[6] = torch.nn.Linear(4096, 10)\n",
    "# device = torch.device('cuda:0' if torch.cuda.is_available() else 'mps' if torch.backends.mps.is_available() else 'cpu')\n",
    "device = torch.device('cpu')\n",
    "print(f'device = {device}')\n",
    "\n",
    "vgg16.load_state_dict(torch.load(\"model_weight.pth\", map_location=device))\n",
    "vgg16 = vgg16.to(device)\n",
    "vgg16.eval()\n",
    "# vgg16\n",
    "\n",
    "\n",
    "X_test = X_test.to(device)\n",
    "Y_test = Y_test.to(device)\n",
    "# vgg16_cpu = vgg16.to('cpu')\n",
    "with torch.no_grad():\n",
    "    output = vgg16(X_test)\n",
    "output\n"
   ]
  },
  {
   "cell_type": "code",
   "execution_count": 5,
   "metadata": {},
   "outputs": [
    {
     "name": "stdout",
     "output_type": "stream",
     "text": [
      "Accuracy: 0.605\n",
      "Precision: 0.7342281276775325\n",
      "Recall: 0.6072630714749905\n",
      "F1: 0.5644224763060713\n"
     ]
    },
    {
     "data": {
      "image/png": "[encoded data removed]",
      "text/plain": [
       "<Figure size 640x480 with 2 Axes>"
      ]
     },
     "metadata": {},
     "output_type": "display_data"
    }
   ],
   "source": [
    "from sklearn.metrics import accuracy_score, f1_score, precision_score, recall_score, confusion_matrix\n",
    "from matplotlib import pyplot as plt\n",
    "import seaborn as sns\n",
    "from seaborn import heatmap\n",
    "\n",
    "\n",
    "_, predicted = torch.max(output, 1)\n",
    "accuracy = accuracy_score(Y_test, predicted)\n",
    "precision = precision_score(Y_test, predicted, average='macro')\n",
    "recall = recall_score(Y_test, predicted, average='macro')\n",
    "f1 = f1_score(Y_test, predicted, average='macro')\n",
    "cm = confusion_matrix(Y_test, predicted)\n",
    "\n",
    "# Print the evaluation metrics\n",
    "print(f'Accuracy: {accuracy}')\n",
    "print(f'Precision: {precision}')\n",
    "print(f'Recall: {recall}')\n",
    "print(f'F1: {f1}')\n",
    "sns.heatmap(cm, annot=True, fmt='d', cmap='Blues')\n",
    "plt.xlabel('Predicted')\n",
    "plt.ylabel('True')\n",
    "plt.show()"
   ]
  },
  {
   "cell_type": "code",
   "execution_count": null,
   "metadata": {},
   "outputs": [],
   "source": []
  }
 ],
 "metadata": {
  "kernelspec": {
   "display_name": "ml",
   "language": "python",
   "name": "python3"
  },
  "language_info": {
   "codemirror_mode": {
    "name": "ipython",
    "version": 3
   },
   "file_extension": ".py",
   "mimetype": "text/x-python",
   "name": "python",
   "nbconvert_exporter": "python",
   "pygments_lexer": "ipython3",
   "version": "3.13.2"
  }
 },
 "nbformat": 4,
 "nbformat_minor": 2
}
